{
 "cells": [
  {
   "cell_type": "code",
   "execution_count": 1,
   "outputs": [],
   "source": [
    "import pandas as pd\n",
    "import numpy as np\n",
    "import re\n",
    "import json\n",
    "import copy"
   ],
   "metadata": {
    "collapsed": false,
    "pycharm": {
     "name": "#%%\n"
    }
   }
  },
  {
   "cell_type": "code",
   "execution_count": 2,
   "outputs": [],
   "source": [
    "df = pd.read_csv('books_1.Best_Books_Ever.csv')"
   ],
   "metadata": {
    "collapsed": false,
    "pycharm": {
     "name": "#%%\n"
    }
   }
  },
  {
   "cell_type": "code",
   "execution_count": 3,
   "outputs": [],
   "source": [
    "columnsToDrop = ['bookId', 'isbn', 'firstPublishDate', 'ratingsByStars', 'likedPercent', 'bbeScore', 'bbeVotes',\n",
    "                 'edition', 'awards']"
   ],
   "metadata": {
    "collapsed": false,
    "pycharm": {
     "name": "#%%\n"
    }
   }
  },
  {
   "cell_type": "code",
   "execution_count": 4,
   "outputs": [],
   "source": [
    "for col in columnsToDrop:\n",
    "    try:\n",
    "        df.drop(columns=col, inplace=True)\n",
    "    except:\n",
    "        print(f\"{col} not found\")"
   ],
   "metadata": {
    "collapsed": false,
    "pycharm": {
     "name": "#%%\n"
    }
   }
  },
  {
   "cell_type": "code",
   "execution_count": 5,
   "outputs": [],
   "source": [
    "def nanInColsOfDF(df_):\n",
    "    cols_ = df_.columns\n",
    "    for col_ in cols_:\n",
    "        count_ = len(df_[df_[col_].isna()])\n",
    "        print(f\"{col_}, {count_}\")"
   ],
   "metadata": {
    "collapsed": false,
    "pycharm": {
     "name": "#%%\n"
    }
   }
  },
  {
   "cell_type": "code",
   "execution_count": 6,
   "outputs": [],
   "source": [
    "df = df.loc[df.coverImg.notna()]\n",
    "df = df.loc[df.pages.notna()]\n",
    "df = df.loc[df.description.notna()]\n",
    "df = df.loc[df.language.notna()]\n",
    "df = df.loc[df.bookFormat.notna()]\n",
    "df = df.loc[df.publisher.notna()]\n",
    "df = df.loc[df.publishDate.notna()]"
   ],
   "metadata": {
    "collapsed": false,
    "pycharm": {
     "name": "#%%\n"
    }
   }
  },
  {
   "cell_type": "code",
   "execution_count": 7,
   "outputs": [],
   "source": [
    "df['series'] = df['series'].fillna(\"\")\n",
    "df['author'] = df['author'].str.replace('\\(Goodreads Author\\)', '', regex=True)\n",
    "df['pages'] = df['pages'].str.replace('1 page', '0', regex=True)\n",
    "df.pages = df.pages.astype(int)\n",
    "\n",
    "a = df.author\n",
    "a = a.str.split(',', expand=True)[0]\n",
    "df.author = a"
   ],
   "metadata": {
    "collapsed": false,
    "pycharm": {
     "name": "#%%\n"
    }
   }
  },
  {
   "cell_type": "code",
   "execution_count": 8,
   "outputs": [],
   "source": [
    "df.reset_index(inplace=True)\n",
    "df.drop(columns='index', inplace=True)\n",
    "\n",
    "df['genres'] = df.genres.apply(lambda x: x[1:-1].split(\"', '\"))\n",
    "df['characters'] = df.characters.apply(lambda x: x[1:-1].split(\"', '\"))\n",
    "df['setting'] = df.setting.apply(lambda x: x[1:-1].split(\"', '\"))"
   ],
   "metadata": {
    "collapsed": false,
    "pycharm": {
     "name": "#%%\n"
    }
   }
  },
  {
   "cell_type": "code",
   "execution_count": 9,
   "outputs": [],
   "source": [
    "for i in range(len(df.genres)):\n",
    "    for j in range(len(df.genres[i])):\n",
    "        df.genres[i][j] = df.genres[i][j].replace(\"[\", \"\")\n",
    "        df.genres[i][j] = df.genres[i][j].replace(\"'\", \"\")\n",
    "        df.genres[i][j] = df.genres[i][j].replace(\",\", \"\")\n",
    "        df.genres[i][j] = df.genres[i][j].replace(\"]\", \"\")\n",
    "\n",
    "for i in range(len(df.characters)):\n",
    "    for j in range(len(df.characters[i])):\n",
    "        df.characters[i][j] = df.characters[i][j].replace(\"[\", \"\")\n",
    "        df.characters[i][j] = df.characters[i][j].replace(\"'\", \"\")\n",
    "        df.characters[i][j] = df.characters[i][j].replace(\",\", \"\")\n",
    "        df.characters[i][j] = df.characters[i][j].replace(\"]\", \"\")\n",
    "\n",
    "for i in range(len(df.setting)):\n",
    "    for j in range(len(df.setting[i])):\n",
    "        df.setting[i][j] = df.setting[i][j].replace(\"[\", \"\")\n",
    "        df.setting[i][j] = df.setting[i][j].replace(\"'\", \"\")\n",
    "        df.setting[i][j] = df.setting[i][j].replace(\",\", \"\")\n",
    "        df.setting[i][j] = df.setting[i][j].replace(\"]\", \"\")"
   ],
   "metadata": {
    "collapsed": false,
    "pycharm": {
     "name": "#%%\n"
    }
   }
  },
  {
   "cell_type": "code",
   "execution_count": 10,
   "outputs": [
    {
     "name": "stdout",
     "output_type": "stream",
     "text": [
      "1.189.88\n",
      "1.743.28\n",
      "1.743.28\n",
      "1.307.46\n",
      "1.307.46\n",
      "8.715.51\n",
      "1.775.18\n",
      "1.734.84\n",
      "1.734.84\n",
      "2.812.18\n"
     ]
    }
   ],
   "source": [
    "for row in df.loc[df.price.notna()].price:\n",
    "    val = row.count('.')\n",
    "    if val == 2:\n",
    "        print(row)\n",
    "        df = df.loc[df.price.notna()].drop(df.loc[df.price.notna()].loc[df.loc[df.price.notna()].price == row].index)\n",
    "\n",
    "df.price = df.price.astype(float)\n",
    "df.price = df.price * 3\n",
    "df.reset_index(inplace=True)\n",
    "df.drop(columns='index', inplace=True)"
   ],
   "metadata": {
    "collapsed": false,
    "pycharm": {
     "name": "#%%\n"
    }
   }
  },
  {
   "cell_type": "code",
   "execution_count": 11,
   "outputs": [],
   "source": [
    "df['price'] = np.random.uniform(4, 30, df.shape[0]).round(2)"
   ],
   "metadata": {
    "collapsed": false,
    "pycharm": {
     "name": "#%%\n"
    }
   }
  },
  {
   "cell_type": "code",
   "execution_count": 12,
   "outputs": [],
   "source": [
    "genres = []\n",
    "for genList in df.genres:\n",
    "    for gen in genList:\n",
    "        if gen not in genres:\n",
    "            genres.append(gen)\n",
    "genres.sort()\n",
    "\n",
    "setting = []\n",
    "for settingList in df.setting:\n",
    "    for loc in settingList:\n",
    "        if loc not in setting:\n",
    "            setting.append(loc)\n",
    "setting.sort()\n",
    "\n",
    "languages = []\n",
    "for lang in df.language:\n",
    "    if lang not in languages:\n",
    "        languages.append(lang)\n",
    "languages.sort()\n",
    "\n",
    "authors = []\n",
    "for auth in df.author:\n",
    "    if auth not in authors:\n",
    "        authors.append(auth)\n",
    "authors.sort()"
   ],
   "metadata": {
    "collapsed": false,
    "pycharm": {
     "name": "#%%\n"
    }
   }
  },
  {
   "cell_type": "code",
   "execution_count": 15,
   "outputs": [
    {
     "data": {
      "text/plain": "Index(['title', 'series', 'author', 'rating', 'description', 'language',\n       'genres', 'characters', 'bookFormat', 'pages', 'publisher',\n       'publishDate', 'numRatings', 'setting', 'coverImg', 'price'],\n      dtype='object')"
     },
     "execution_count": 15,
     "metadata": {},
     "output_type": "execute_result"
    }
   ],
   "source": [
    "df.columns"
   ],
   "metadata": {
    "collapsed": false,
    "pycharm": {
     "name": "#%%\n"
    }
   }
  },
  {
   "cell_type": "code",
   "execution_count": 16,
   "outputs": [],
   "source": [
    "df.rename(\n",
    "    columns={'title': 'Title', 'series': 'Series', 'author': 'Author', 'rating': 'Rating', 'description': 'Description',\n",
    "             'language': 'Language', 'genres': 'Genres', 'characters': 'Characters', 'bookFormat': 'BookFormat',\n",
    "             'pages': 'Pages', 'publisher': 'Publisher', 'publishDate': 'PublishDate', 'numRatings': 'NumOfRatings',\n",
    "             'setting': 'Setting', 'coverImg': 'CoverImg', 'price': 'Price'}, inplace=True)"
   ],
   "metadata": {
    "collapsed": false,
    "pycharm": {
     "name": "#%%\n"
    }
   }
  },
  {
   "cell_type": "code",
   "execution_count": 17,
   "outputs": [
    {
     "data": {
      "text/plain": "                                           Title                Series  \\\n0                               The Hunger Games   The Hunger Games #1   \n1      Harry Potter and the Order of the Phoenix       Harry Potter #5   \n2                                       Twilight  The Twilight Saga #1   \n3                                 The Book Thief                         \n4                                    Animal Farm                         \n...                                          ...                   ...   \n34660                          Attracted to Fire                         \n34661                               Unbelievable          Port Fare #2   \n34662                                     Marked     Soul Guardians #1   \n34663                                Wayward Son                         \n34664                        Daughter of Helaman  Stripling Warrior #1   \n\n                Author  Rating  \\\n0      Suzanne Collins    4.33   \n1         J.K. Rowling    4.50   \n2      Stephenie Meyer    3.60   \n3        Markus Zusak     4.37   \n4        George Orwell    3.95   \n...                ...     ...   \n34660     DiAnn Mills     4.14   \n34661   Sherry Gammon     4.16   \n34662  Kim Richardson     3.70   \n34663     Tom Pollack     3.85   \n34664    Misty Moncur     4.02   \n\n                                             Description Language  \\\n0      WINNING MEANS FAME AND FORTUNE.LOSING MEANS CE...  English   \n1      There is a door at the end of a silent corrido...  English   \n2      About three things I was absolutely positive.\\...  English   \n3      Librarian's note: An alternate cover edition c...  English   \n4      Librarian's note: There is an Alternate Cover ...  English   \n...                                                  ...      ...   \n34660  Special Agent Meghan Connors' dream of one day...  English   \n34661  Lilah Lopez Dreser's in town to take care of u...  English   \n34662  --READERS FAVORITE AWARDS WINNER 2011--Sixteen...  English   \n34663  A POWERFUL TREMOR UNEARTHS AN ANCIENT SECRETBu...  English   \n34664  Fighting in Helaman's army is Keturah's deepes...  English   \n\n                                                  Genres  \\\n0      [Young Adult, Fiction, Dystopia, Fantasy, Scie...   \n1      [Fantasy, Young Adult, Fiction, Magic, Childre...   \n2      [Young Adult, Fantasy, Romance, Vampires, Fict...   \n3      [Historical Fiction, Fiction, Young Adult, His...   \n4      [Classics, Fiction, Dystopia, Fantasy, Literat...   \n...                                                  ...   \n34660  [Christian Fiction, Christian, Suspense, Roman...   \n34661  [Romance, Young Adult, Contemporary, Contempor...   \n34662  [Fantasy, Young Adult, Paranormal, Angels, Rom...   \n34663  [Fiction, Mystery, Historical Fiction, Adventu...   \n34664  [Lds Fiction, Historical Fiction, Young Adult,...   \n\n                                              Characters  \\\n0      [Katniss Everdeen, Peeta Mellark, Cato (Hunger...   \n1      [Sirius Black, Draco Malfoy, Ron Weasley, Petu...   \n2      [Edward Cullen, Jacob Black, Laurent, Renee, B...   \n3      [Liesel Meminger, Hans Hubermann, Rudy Steiner...   \n4      [Snowball, Napoleon, Clover, Boxer, Old Major,...   \n...                                                  ...   \n34660                                                 []   \n34661                                                 []   \n34662                                                 []   \n34663                                                 []   \n34664                                                 []   \n\n                  BookFormat  Pages                  Publisher  \\\n0                  Hardcover    374           Scholastic Press   \n1                  Paperback    870            Scholastic Inc.   \n2                  Paperback    501  Little, Brown and Company   \n3                  Hardcover    552            Alfred A. Knopf   \n4      Mass Market Paperback    141            Signet Classics   \n...                      ...    ...                        ...   \n34660              Paperback    416   Tyndale House Publishers   \n34661              Paperback    360    Wordpaintings Unlimited   \n34662              Paperback    280                CreateSpace   \n34663              Paperback    507        Cascada Productions   \n34664              Paperback    201                 Bonneville   \n\n              PublishDate  NumOfRatings  \\\n0                09/14/08       6376780   \n1                09/28/04       2507623   \n2                09/06/06       4964519   \n3                03/14/06       1834276   \n4                04/28/96       2740713   \n...                   ...           ...   \n34660    October 1st 2011          2143   \n34661     April 11th 2013          1028   \n34662     March 18th 2011          6674   \n34663  September 1st 2011           238   \n34664        May 8th 2011           246   \n\n                                                 Setting  \\\n0      [District 12 Panem, Capitol Panem, Panem (Unit...   \n1      [Hogwarts School of Witchcraft and Wizardry (U...   \n2      [Forks Washington (United States), Phoenix Ari...   \n3                          [Molching (Germany), Germany]   \n4                              [England, United Kingdom]   \n...                                                  ...   \n34660                       [West Texas (United States)]   \n34661               [Port Fare New York (United States)]   \n34662                                                 []   \n34663                                                 []   \n34664                                                 []   \n\n                                                CoverImg  Price  \n0      https://i.gr-assets.com/images/S/compressed.ph...   8.97  \n1      https://i.gr-assets.com/images/S/compressed.ph...   6.87  \n2      https://i.gr-assets.com/images/S/compressed.ph...  25.24  \n3      https://i.gr-assets.com/images/S/compressed.ph...  12.87  \n4      https://i.gr-assets.com/images/S/compressed.ph...  14.05  \n...                                                  ...    ...  \n34660  https://i.gr-assets.com/images/S/compressed.ph...  26.67  \n34661  https://i.gr-assets.com/images/S/compressed.ph...  16.59  \n34662  https://i.gr-assets.com/images/S/compressed.ph...  26.36  \n34663  https://i.gr-assets.com/images/S/compressed.ph...  19.92  \n34664  https://i.gr-assets.com/images/S/compressed.ph...   5.41  \n\n[34665 rows x 16 columns]",
      "text/html": "<div>\n<style scoped>\n    .dataframe tbody tr th:only-of-type {\n        vertical-align: middle;\n    }\n\n    .dataframe tbody tr th {\n        vertical-align: top;\n    }\n\n    .dataframe thead th {\n        text-align: right;\n    }\n</style>\n<table border=\"1\" class=\"dataframe\">\n  <thead>\n    <tr style=\"text-align: right;\">\n      <th></th>\n      <th>Title</th>\n      <th>Series</th>\n      <th>Author</th>\n      <th>Rating</th>\n      <th>Description</th>\n      <th>Language</th>\n      <th>Genres</th>\n      <th>Characters</th>\n      <th>BookFormat</th>\n      <th>Pages</th>\n      <th>Publisher</th>\n      <th>PublishDate</th>\n      <th>NumOfRatings</th>\n      <th>Setting</th>\n      <th>CoverImg</th>\n      <th>Price</th>\n    </tr>\n  </thead>\n  <tbody>\n    <tr>\n      <th>0</th>\n      <td>The Hunger Games</td>\n      <td>The Hunger Games #1</td>\n      <td>Suzanne Collins</td>\n      <td>4.33</td>\n      <td>WINNING MEANS FAME AND FORTUNE.LOSING MEANS CE...</td>\n      <td>English</td>\n      <td>[Young Adult, Fiction, Dystopia, Fantasy, Scie...</td>\n      <td>[Katniss Everdeen, Peeta Mellark, Cato (Hunger...</td>\n      <td>Hardcover</td>\n      <td>374</td>\n      <td>Scholastic Press</td>\n      <td>09/14/08</td>\n      <td>6376780</td>\n      <td>[District 12 Panem, Capitol Panem, Panem (Unit...</td>\n      <td>https://i.gr-assets.com/images/S/compressed.ph...</td>\n      <td>8.97</td>\n    </tr>\n    <tr>\n      <th>1</th>\n      <td>Harry Potter and the Order of the Phoenix</td>\n      <td>Harry Potter #5</td>\n      <td>J.K. Rowling</td>\n      <td>4.50</td>\n      <td>There is a door at the end of a silent corrido...</td>\n      <td>English</td>\n      <td>[Fantasy, Young Adult, Fiction, Magic, Childre...</td>\n      <td>[Sirius Black, Draco Malfoy, Ron Weasley, Petu...</td>\n      <td>Paperback</td>\n      <td>870</td>\n      <td>Scholastic Inc.</td>\n      <td>09/28/04</td>\n      <td>2507623</td>\n      <td>[Hogwarts School of Witchcraft and Wizardry (U...</td>\n      <td>https://i.gr-assets.com/images/S/compressed.ph...</td>\n      <td>6.87</td>\n    </tr>\n    <tr>\n      <th>2</th>\n      <td>Twilight</td>\n      <td>The Twilight Saga #1</td>\n      <td>Stephenie Meyer</td>\n      <td>3.60</td>\n      <td>About three things I was absolutely positive.\\...</td>\n      <td>English</td>\n      <td>[Young Adult, Fantasy, Romance, Vampires, Fict...</td>\n      <td>[Edward Cullen, Jacob Black, Laurent, Renee, B...</td>\n      <td>Paperback</td>\n      <td>501</td>\n      <td>Little, Brown and Company</td>\n      <td>09/06/06</td>\n      <td>4964519</td>\n      <td>[Forks Washington (United States), Phoenix Ari...</td>\n      <td>https://i.gr-assets.com/images/S/compressed.ph...</td>\n      <td>25.24</td>\n    </tr>\n    <tr>\n      <th>3</th>\n      <td>The Book Thief</td>\n      <td></td>\n      <td>Markus Zusak</td>\n      <td>4.37</td>\n      <td>Librarian's note: An alternate cover edition c...</td>\n      <td>English</td>\n      <td>[Historical Fiction, Fiction, Young Adult, His...</td>\n      <td>[Liesel Meminger, Hans Hubermann, Rudy Steiner...</td>\n      <td>Hardcover</td>\n      <td>552</td>\n      <td>Alfred A. Knopf</td>\n      <td>03/14/06</td>\n      <td>1834276</td>\n      <td>[Molching (Germany), Germany]</td>\n      <td>https://i.gr-assets.com/images/S/compressed.ph...</td>\n      <td>12.87</td>\n    </tr>\n    <tr>\n      <th>4</th>\n      <td>Animal Farm</td>\n      <td></td>\n      <td>George Orwell</td>\n      <td>3.95</td>\n      <td>Librarian's note: There is an Alternate Cover ...</td>\n      <td>English</td>\n      <td>[Classics, Fiction, Dystopia, Fantasy, Literat...</td>\n      <td>[Snowball, Napoleon, Clover, Boxer, Old Major,...</td>\n      <td>Mass Market Paperback</td>\n      <td>141</td>\n      <td>Signet Classics</td>\n      <td>04/28/96</td>\n      <td>2740713</td>\n      <td>[England, United Kingdom]</td>\n      <td>https://i.gr-assets.com/images/S/compressed.ph...</td>\n      <td>14.05</td>\n    </tr>\n    <tr>\n      <th>...</th>\n      <td>...</td>\n      <td>...</td>\n      <td>...</td>\n      <td>...</td>\n      <td>...</td>\n      <td>...</td>\n      <td>...</td>\n      <td>...</td>\n      <td>...</td>\n      <td>...</td>\n      <td>...</td>\n      <td>...</td>\n      <td>...</td>\n      <td>...</td>\n      <td>...</td>\n      <td>...</td>\n    </tr>\n    <tr>\n      <th>34660</th>\n      <td>Attracted to Fire</td>\n      <td></td>\n      <td>DiAnn Mills</td>\n      <td>4.14</td>\n      <td>Special Agent Meghan Connors' dream of one day...</td>\n      <td>English</td>\n      <td>[Christian Fiction, Christian, Suspense, Roman...</td>\n      <td>[]</td>\n      <td>Paperback</td>\n      <td>416</td>\n      <td>Tyndale House Publishers</td>\n      <td>October 1st 2011</td>\n      <td>2143</td>\n      <td>[West Texas (United States)]</td>\n      <td>https://i.gr-assets.com/images/S/compressed.ph...</td>\n      <td>26.67</td>\n    </tr>\n    <tr>\n      <th>34661</th>\n      <td>Unbelievable</td>\n      <td>Port Fare #2</td>\n      <td>Sherry Gammon</td>\n      <td>4.16</td>\n      <td>Lilah Lopez Dreser's in town to take care of u...</td>\n      <td>English</td>\n      <td>[Romance, Young Adult, Contemporary, Contempor...</td>\n      <td>[]</td>\n      <td>Paperback</td>\n      <td>360</td>\n      <td>Wordpaintings Unlimited</td>\n      <td>April 11th 2013</td>\n      <td>1028</td>\n      <td>[Port Fare New York (United States)]</td>\n      <td>https://i.gr-assets.com/images/S/compressed.ph...</td>\n      <td>16.59</td>\n    </tr>\n    <tr>\n      <th>34662</th>\n      <td>Marked</td>\n      <td>Soul Guardians #1</td>\n      <td>Kim Richardson</td>\n      <td>3.70</td>\n      <td>--READERS FAVORITE AWARDS WINNER 2011--Sixteen...</td>\n      <td>English</td>\n      <td>[Fantasy, Young Adult, Paranormal, Angels, Rom...</td>\n      <td>[]</td>\n      <td>Paperback</td>\n      <td>280</td>\n      <td>CreateSpace</td>\n      <td>March 18th 2011</td>\n      <td>6674</td>\n      <td>[]</td>\n      <td>https://i.gr-assets.com/images/S/compressed.ph...</td>\n      <td>26.36</td>\n    </tr>\n    <tr>\n      <th>34663</th>\n      <td>Wayward Son</td>\n      <td></td>\n      <td>Tom Pollack</td>\n      <td>3.85</td>\n      <td>A POWERFUL TREMOR UNEARTHS AN ANCIENT SECRETBu...</td>\n      <td>English</td>\n      <td>[Fiction, Mystery, Historical Fiction, Adventu...</td>\n      <td>[]</td>\n      <td>Paperback</td>\n      <td>507</td>\n      <td>Cascada Productions</td>\n      <td>September 1st 2011</td>\n      <td>238</td>\n      <td>[]</td>\n      <td>https://i.gr-assets.com/images/S/compressed.ph...</td>\n      <td>19.92</td>\n    </tr>\n    <tr>\n      <th>34664</th>\n      <td>Daughter of Helaman</td>\n      <td>Stripling Warrior #1</td>\n      <td>Misty Moncur</td>\n      <td>4.02</td>\n      <td>Fighting in Helaman's army is Keturah's deepes...</td>\n      <td>English</td>\n      <td>[Lds Fiction, Historical Fiction, Young Adult,...</td>\n      <td>[]</td>\n      <td>Paperback</td>\n      <td>201</td>\n      <td>Bonneville</td>\n      <td>May 8th 2011</td>\n      <td>246</td>\n      <td>[]</td>\n      <td>https://i.gr-assets.com/images/S/compressed.ph...</td>\n      <td>5.41</td>\n    </tr>\n  </tbody>\n</table>\n<p>34665 rows × 16 columns</p>\n</div>"
     },
     "execution_count": 17,
     "metadata": {},
     "output_type": "execute_result"
    }
   ],
   "source": [
    "df"
   ],
   "metadata": {
    "collapsed": false,
    "pycharm": {
     "name": "#%%\n"
    }
   }
  },
  {
   "cell_type": "code",
   "execution_count": 18,
   "outputs": [],
   "source": [
    "data = df.to_json(orient='index')\n",
    "json_genres = json.dumps(genres)\n",
    "json_setting = json.dumps(setting)\n",
    "json_languages = json.dumps(languages)\n",
    "json_authors = json.dumps(authors)"
   ],
   "metadata": {
    "collapsed": false,
    "pycharm": {
     "name": "#%%\n"
    }
   }
  },
  {
   "cell_type": "code",
   "execution_count": 19,
   "outputs": [],
   "source": [
    "with open('Output/books.json', 'w') as file:\n",
    "    file.write(data)\n",
    "\n",
    "with open('Output/genres.json', 'w') as file:\n",
    "    file.write(json_genres)\n",
    "\n",
    "with open('Output/setting.json', 'w') as file:\n",
    "    file.write(json_setting)\n",
    "\n",
    "with open('Output/languages.json', 'w') as file:\n",
    "    file.write(json_languages)\n",
    "\n",
    "with open('Output/authors.json', 'w') as file:\n",
    "    file.write(json_authors)"
   ],
   "metadata": {
    "collapsed": false,
    "pycharm": {
     "name": "#%%\n"
    }
   }
  },
  {
   "cell_type": "markdown",
   "source": [
    "Tests"
   ],
   "metadata": {
    "collapsed": false,
    "pycharm": {
     "name": "#%% md\n"
    }
   }
  },
  {
   "cell_type": "code",
   "execution_count": 15,
   "outputs": [],
   "source": [
    "# for mset in df.setting:\n",
    "#     for item in mset:\n",
    "#         if re.search(\"\\(Austria(.)*\\)\", item):\n",
    "#             print(mset)\n",
    "#             break"
   ],
   "metadata": {
    "collapsed": false,
    "pycharm": {
     "name": "#%%\n"
    }
   }
  },
  {
   "cell_type": "code",
   "execution_count": 25,
   "outputs": [],
   "source": [
    "with open('Output/Test.json', 'w') as file:\n",
    "    file.write(df.loc[0].to_json(orient='index'))"
   ],
   "metadata": {
    "collapsed": false,
    "pycharm": {
     "name": "#%%\n"
    }
   }
  },
  {
   "cell_type": "code",
   "execution_count": null,
   "outputs": [],
   "source": [],
   "metadata": {
    "collapsed": false,
    "pycharm": {
     "name": "#%%\n"
    }
   }
  }
 ],
 "metadata": {
  "kernelspec": {
   "display_name": "Python 3",
   "language": "python",
   "name": "python3"
  },
  "language_info": {
   "codemirror_mode": {
    "name": "ipython",
    "version": 2
   },
   "file_extension": ".py",
   "mimetype": "text/x-python",
   "name": "python",
   "nbconvert_exporter": "python",
   "pygments_lexer": "ipython2",
   "version": "2.7.6"
  }
 },
 "nbformat": 4,
 "nbformat_minor": 0
}